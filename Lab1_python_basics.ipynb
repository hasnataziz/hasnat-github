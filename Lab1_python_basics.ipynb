{
 "cells": [
  {
   "cell_type": "markdown",
   "metadata": {},
   "source": [
    "# Lab 01"
   ]
  },
  {
   "cell_type": "code",
   "execution_count": 10,
   "metadata": {},
   "outputs": [],
   "source": [
    "name = \"john\""
   ]
  },
  {
   "cell_type": "code",
   "execution_count": 11,
   "metadata": {},
   "outputs": [],
   "source": [
    "age =25"
   ]
  },
  {
   "cell_type": "code",
   "execution_count": 12,
   "metadata": {},
   "outputs": [
    {
     "name": "stdout",
     "output_type": "stream",
     "text": [
      "My name is john and my age is 25\n"
     ]
    }
   ],
   "source": [
    "print(f\"My name is {name} and my age is {age}\")"
   ]
  },
  {
   "cell_type": "code",
   "execution_count": 13,
   "metadata": {},
   "outputs": [],
   "source": [
    "fruits = [\"Apple\",\"Banana\",\"Orange\"]"
   ]
  },
  {
   "cell_type": "markdown",
   "metadata": {},
   "source": [
    "# for loop"
   ]
  },
  {
   "cell_type": "code",
   "execution_count": 14,
   "metadata": {},
   "outputs": [
    {
     "name": "stdout",
     "output_type": "stream",
     "text": [
      "Apple\n",
      "I love Apple\n",
      "Banana\n",
      "I love Banana\n",
      "Orange\n",
      "I love Orange\n"
     ]
    }
   ],
   "source": [
    "for fruit in fruits:\n",
    "    print(fruit)\n",
    "    print(f\"I love {fruit}\")"
   ]
  },
  {
   "cell_type": "markdown",
   "metadata": {},
   "source": [
    "# definition of function "
   ]
  },
  {
   "cell_type": "code",
   "execution_count": 15,
   "metadata": {},
   "outputs": [],
   "source": [
    "def greet(name):\n",
    "    return f\"hello {name}\""
   ]
  },
  {
   "cell_type": "code",
   "execution_count": 16,
   "metadata": {},
   "outputs": [
    {
     "data": {
      "text/plain": [
       "'hello Hasnat aziz'"
      ]
     },
     "execution_count": 16,
     "metadata": {},
     "output_type": "execute_result"
    }
   ],
   "source": [
    "greet(\"Hasnat aziz\")"
   ]
  },
  {
   "cell_type": "code",
   "execution_count": 17,
   "metadata": {},
   "outputs": [
    {
     "name": "stdout",
     "output_type": "stream",
     "text": [
      "My name is Abdullah and I am 20 years old\n"
     ]
    }
   ],
   "source": [
    "name = \"Abdullah\"\n",
    "age = \"20\"\n",
    "print(f\"My name is {name} and I am {age} years old\")\n",
    "\n"
   ]
  },
  {
   "cell_type": "markdown",
   "metadata": {},
   "source": [
    "# working with csv"
   ]
  },
  {
   "cell_type": "code",
   "execution_count": 20,
   "metadata": {},
   "outputs": [],
   "source": [
    "import csv"
   ]
  },
  {
   "cell_type": "code",
   "execution_count": 21,
   "metadata": {},
   "outputs": [],
   "source": [
    "data = [\n",
    "    [\"name\",\"age\",\"city\"],\n",
    "    [\"Hasnat\",\"21\",\"MG\"],\n",
    "    [\"Abdullah\",\"22\",\"mlt\"],\n",
    "    [\"Ahmed\",\"22\",\"pwp\"]\n",
    "]"
   ]
  },
  {
   "cell_type": "code",
   "execution_count": 41,
   "metadata": {},
   "outputs": [
    {
     "name": "stdout",
     "output_type": "stream",
     "text": [
      "CSV file 'General.csv' created and data written successfully!\n"
     ]
    }
   ],
   "source": [
    "with open('General.csv',mode='w',newline=\"\") as file:\n",
    "    writer = csv.writer(file)\n",
    "    writer.writerows(data)\n",
    "\n",
    "print(\"CSV file 'General.csv' created and data written successfully!\")"
   ]
  },
  {
   "cell_type": "code",
   "execution_count": 23,
   "metadata": {},
   "outputs": [],
   "source": [
    "import csv"
   ]
  },
  {
   "cell_type": "code",
   "execution_count": 42,
   "metadata": {},
   "outputs": [
    {
     "name": "stdout",
     "output_type": "stream",
     "text": [
      "['name', 'age', 'city']\n",
      "['Hasnat', '21', 'MG']\n",
      "['Abdullah', '22', 'mlt']\n",
      "['Ahmed', '22', 'pwp']\n"
     ]
    }
   ],
   "source": [
    "with open(\"General.csv\",mode = 'r') as file:\n",
    "    reader = csv.reader(file)\n",
    "    for row in reader:\n",
    "        print(row)\n"
   ]
  },
  {
   "cell_type": "code",
   "execution_count": 37,
   "metadata": {},
   "outputs": [],
   "source": [
    "new_data = [\"ALiyan\",\"25\",\"murre\"]"
   ]
  },
  {
   "cell_type": "code",
   "execution_count": 44,
   "metadata": {},
   "outputs": [
    {
     "name": "stdout",
     "output_type": "stream",
     "text": [
      "new data is saved in the file\n"
     ]
    }
   ],
   "source": [
    "with open(\"General.csv\",mode = 'a',newline=\"\") as file:\n",
    "    writer = csv.writer(file)\n",
    "    writer.writerow(new_data)\n",
    "print(\"new data is saved in the file\")"
   ]
  },
  {
   "cell_type": "code",
   "execution_count": 45,
   "metadata": {},
   "outputs": [
    {
     "name": "stdout",
     "output_type": "stream",
     "text": [
      "['name', 'age', 'city']\n",
      "['Hasnat', '21', 'MG']\n",
      "['Abdullah', '22', 'mlt']\n",
      "['Ahmed', '22', 'pwp']\n",
      "['ALiyan', '25', 'murre']\n"
     ]
    }
   ],
   "source": [
    "with open(\"General.csv\",mode = 'r') as file:\n",
    "    reader = csv.reader(file)\n",
    "    for row in reader:\n",
    "        print(row)"
   ]
  },
  {
   "cell_type": "markdown",
   "metadata": {},
   "source": [
    "# working with json"
   ]
  },
  {
   "cell_type": "code",
   "execution_count": 46,
   "metadata": {},
   "outputs": [],
   "source": [
    "import json"
   ]
  },
  {
   "cell_type": "code",
   "execution_count": 47,
   "metadata": {},
   "outputs": [],
   "source": [
    "data = {\n",
    "    \"people\":[\n",
    "        {\"name\":\"John\",\"age\":\"20\",\"city\":\"NY\"},\n",
    "        {\"name\":\"Hasnat\",\"age\":\"21\",\"city\":\"mz\"},\n",
    "        {\"name\":\"AHmed\",\"age\":\"42\",\"city\":\"rwp\"}\n",
    "    ]\n",
    "}"
   ]
  },
  {
   "cell_type": "code",
   "execution_count": 48,
   "metadata": {},
   "outputs": [
    {
     "name": "stdout",
     "output_type": "stream",
     "text": [
      "Json file saved succesfully\n"
     ]
    }
   ],
   "source": [
    "with open(\"people_data.json\",mode = 'w',newline=\"\") as file:\n",
    "    json.dump(data,file,indent=4)\n",
    "print(\"Json file saved succesfully\")"
   ]
  },
  {
   "cell_type": "code",
   "execution_count": 50,
   "metadata": {},
   "outputs": [],
   "source": [
    "import json"
   ]
  },
  {
   "cell_type": "code",
   "execution_count": 51,
   "metadata": {},
   "outputs": [
    {
     "name": "stdout",
     "output_type": "stream",
     "text": [
      "{'people': [{'name': 'John', 'age': '20', 'city': 'NY'}, {'name': 'Hasnat', 'age': '21', 'city': 'mz'}, {'name': 'AHmed', 'age': '42', 'city': 'rwp'}]}\n"
     ]
    }
   ],
   "source": [
    "with open(\"people_data.json\", mode = 'r') as file:\n",
    "    data = json.load(file)\n",
    "print(data)"
   ]
  },
  {
   "cell_type": "code",
   "execution_count": 53,
   "metadata": {},
   "outputs": [
    {
     "name": "stdout",
     "output_type": "stream",
     "text": [
      "New data appended to 'people_data.json' successfully!\n"
     ]
    }
   ],
   "source": [
    "import json\n",
    "# Data to append\n",
    "new_entry = {\"name\": \"Sarah\", \"age\": 28, \"city\": \"Houston\"}\n",
    "# Reading the current file\n",
    "with open('people_data.json', mode='r') as file:\n",
    " data = json.load(file)\n",
    "# Append the new data\n",
    "data[\"people\"].append(new_entry)\n",
    "# Writing back the updated data\n",
    "with open('people_data.json', mode='w') as file:\n",
    " json.dump(data, file, indent=4) # Re-write the updated data with indentation\n",
    "print(\"New data appended to 'people_data.json' successfully!\")"
   ]
  },
  {
   "cell_type": "markdown",
   "metadata": {},
   "source": [
    "# factorial code 1"
   ]
  },
  {
   "cell_type": "code",
   "execution_count": 60,
   "metadata": {},
   "outputs": [],
   "source": [
    "def factorial(a):\n",
    "    answer = 1\n",
    "    for i in range(1,a+1):\n",
    "        answer = answer*i\n",
    "    return answer\n"
   ]
  },
  {
   "cell_type": "code",
   "execution_count": 61,
   "metadata": {},
   "outputs": [
    {
     "name": "stdout",
     "output_type": "stream",
     "text": [
      "120\n"
     ]
    }
   ],
   "source": [
    "print(factorial(5))"
   ]
  },
  {
   "cell_type": "markdown",
   "metadata": {},
   "source": [
    "# create and read of a json file"
   ]
  },
  {
   "cell_type": "code",
   "execution_count": 63,
   "metadata": {},
   "outputs": [],
   "source": [
    "import json"
   ]
  },
  {
   "cell_type": "code",
   "execution_count": 64,
   "metadata": {},
   "outputs": [],
   "source": [
    "data = {\n",
    "    \"name\": \"John Doe\",\n",
    "    \"age\": 30,\n",
    "    \"is_student\": False,\n",
    "    \"skills\": [\"Python\", \"Machine Learning\", \"Data Analysis\"],\n",
    "    \"education\": {\n",
    "        \"bachelor\": \"Computer Science\",\n",
    "        \"university\": \"UET Taxila\",\n",
    "        \"year\": 2024\n",
    "    }\n",
    "}"
   ]
  },
  {
   "cell_type": "code",
   "execution_count": 68,
   "metadata": {},
   "outputs": [],
   "source": [
    "with open(\"general.json\",mode = \"w\") as file:\n",
    "    writer = json.dump(data,file,indent=4)"
   ]
  },
  {
   "cell_type": "code",
   "execution_count": 69,
   "metadata": {},
   "outputs": [],
   "source": [
    "with open(\"general.json\", mode = \"r\") as file:\n",
    "    data = json.load(file)"
   ]
  },
  {
   "cell_type": "code",
   "execution_count": 70,
   "metadata": {},
   "outputs": [
    {
     "name": "stdout",
     "output_type": "stream",
     "text": [
      "{'name': 'John Doe', 'age': 30, 'is_student': False, 'skills': ['Python', 'Machine Learning', 'Data Analysis'], 'education': {'bachelor': 'Computer Science', 'university': 'UET Taxila', 'year': 2024}}\n"
     ]
    }
   ],
   "source": [
    "print(data)"
   ]
  },
  {
   "cell_type": "markdown",
   "metadata": {},
   "source": [
    "# Steps to Open and Execute a Notebook in Jupyter:Install Jupyter Notebook."
   ]
  },
  {
   "cell_type": "markdown",
   "metadata": {},
   "source": []
  },
  {
   "cell_type": "markdown",
   "metadata": {},
   "source": [
    "\n",
    "\n",
    "Navigate to your project directory.\n",
    "\n",
    "Launch Jupyter Notebook.\n",
    "\n",
    "Open the notebook file (.ipynb).\n",
    "\n",
    "Understand the notebook interface.\n",
    "\n",
    "Run individual cells (Shift + Enter or Run button).\n",
    "\n",
    "Execute all cells (Kernel > Restart & Run All).\n",
    "\n",
    "Save your work (Ctrl + S or Save icon).\n",
    "\n",
    "Shut down the notebook (Ctrl + C in terminal).\n",
    "\n",
    "Export the notebook (File > Download as).\n",
    "\n",
    "Restart the kernel if needed.\n"
   ]
  },
  {
   "cell_type": "code",
   "execution_count": null,
   "metadata": {},
   "outputs": [],
   "source": []
  }
 ],
 "metadata": {
  "kernelspec": {
   "display_name": "playground",
   "language": "python",
   "name": "python3"
  },
  "language_info": {
   "codemirror_mode": {
    "name": "ipython",
    "version": 3
   },
   "file_extension": ".py",
   "mimetype": "text/x-python",
   "name": "python",
   "nbconvert_exporter": "python",
   "pygments_lexer": "ipython3",
   "version": "3.12.4"
  }
 },
 "nbformat": 4,
 "nbformat_minor": 2
}
